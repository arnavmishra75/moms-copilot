{
  "nbformat": 4,
  "nbformat_minor": 0,
  "metadata": {
    "colab": {
      "provenance": [],
      "toc_visible": true
    },
    "kernelspec": {
      "name": "python3",
      "display_name": "Python 3"
    },
    "accelerator": "GPU"
  },
  "cells": [
    {
      "cell_type": "code",
      "metadata": {
        "colab": {
          "base_uri": "https://localhost:8080/"
        },
        "id": "UQcdGOQXJITT",
        "outputId": "b25b3525-571a-4311-9cd4-aa3f8b41126d"
      },
      "source": [
        "!pip install torchtext==0.8.1"
      ],
      "execution_count": null,
      "outputs": [
        {
          "output_type": "stream",
          "text": [
            "Collecting torchtext==0.8.1\n",
            "\u001b[?25l  Downloading https://files.pythonhosted.org/packages/13/80/046f0691b296e755ae884df3ca98033cb9afcaf287603b2b7999e94640b8/torchtext-0.8.1-cp37-cp37m-manylinux1_x86_64.whl (7.0MB)\n",
            "\u001b[K     |████████████████████████████████| 7.0MB 14.3MB/s \n",
            "\u001b[?25hRequirement already satisfied: torch==1.7.1 in /usr/local/lib/python3.7/dist-packages (from torchtext==0.8.1) (1.7.1+cu101)\n",
            "Requirement already satisfied: requests in /usr/local/lib/python3.7/dist-packages (from torchtext==0.8.1) (2.23.0)\n",
            "Requirement already satisfied: numpy in /usr/local/lib/python3.7/dist-packages (from torchtext==0.8.1) (1.19.5)\n",
            "Requirement already satisfied: tqdm in /usr/local/lib/python3.7/dist-packages (from torchtext==0.8.1) (4.41.1)\n",
            "Requirement already satisfied: typing-extensions in /usr/local/lib/python3.7/dist-packages (from torch==1.7.1->torchtext==0.8.1) (3.7.4.3)\n",
            "Requirement already satisfied: chardet<4,>=3.0.2 in /usr/local/lib/python3.7/dist-packages (from requests->torchtext==0.8.1) (3.0.4)\n",
            "Requirement already satisfied: idna<3,>=2.5 in /usr/local/lib/python3.7/dist-packages (from requests->torchtext==0.8.1) (2.10)\n",
            "Requirement already satisfied: urllib3!=1.25.0,!=1.25.1,<1.26,>=1.21.1 in /usr/local/lib/python3.7/dist-packages (from requests->torchtext==0.8.1) (1.24.3)\n",
            "Requirement already satisfied: certifi>=2017.4.17 in /usr/local/lib/python3.7/dist-packages (from requests->torchtext==0.8.1) (2020.12.5)\n",
            "Installing collected packages: torchtext\n",
            "  Found existing installation: torchtext 0.3.1\n",
            "    Uninstalling torchtext-0.3.1:\n",
            "      Successfully uninstalled torchtext-0.3.1\n",
            "Successfully installed torchtext-0.8.1\n",
            "/usr/local/bin/pip\n"
          ],
          "name": "stdout"
        }
      ]
    },
    {
      "cell_type": "code",
      "metadata": {
        "colab": {
          "base_uri": "https://localhost:8080/"
        },
        "id": "zDOwFHsjg06H",
        "outputId": "3bf387eb-d1f0-4ef0-fe85-77311b9da524"
      },
      "source": [
        "!pip list|grep spacy"
      ],
      "execution_count": null,
      "outputs": [
        {
          "output_type": "stream",
          "text": [
            "spacy                         2.2.4         \n"
          ],
          "name": "stdout"
        }
      ]
    },
    {
      "cell_type": "code",
      "metadata": {
        "id": "U4SaRGOFG6Rk"
      },
      "source": [
        "import json\n",
        "new_f = open(\"data.json\", \"w\")\n",
        "with open('latest.json', 'r') as old_f:\n",
        "  count = 0\n",
        "  for line in old_f:\n",
        "    if \"['\\\"\" in line:\n",
        "      line = line.replace(\"['\\\"\", \"[\\\"\")\n",
        "    if \"['\" in line:\n",
        "      line = line.replace(\"['\", \"[\\\"\")\n",
        "    if \"\\\"']\" in line:\n",
        "      line = line.replace(\"\\\"']\", \"\\\"]\")\n",
        "    if \"']\" in line:\n",
        "      line = line.replace(\"']\", \"\\\"]\")\n",
        "    if \"\\\"\\\"\" in line:\n",
        "      line = line.replace(\"\\\"\\\"\", \"\")\n",
        "    if \"\\\\n\" in line:\n",
        "      line = line.replace(\"\\\\n\", \" \")\n",
        "    if \"\\\\\" in line:\n",
        "      line = line.replace(\"\\\\\", \"\")\n",
        "    if \"\\\\'\" in line:\n",
        "      line = line.replace(\"\\\\'\", \"'\")\n",
        "    dictionary = json.loads(line)\n",
        "    new_list = dictionary[\"sentence\"][0].split(\" \")\n",
        "    new_list.pop()\n",
        "    dictionary[\"sentence\"] = new_list\n",
        "    json_object = json.dumps(dictionary, indent = None)\n",
        "    if count == 0:\n",
        "      pass\n",
        "    else:\n",
        "      new_f.write(\"\\n\")\n",
        "    count += 1\n",
        "    #print(json_object)\n",
        "    new_f.write(json_object)\n",
        "print(count)"
      ],
      "execution_count": null,
      "outputs": []
    },
    {
      "cell_type": "code",
      "metadata": {
        "colab": {
          "base_uri": "https://localhost:8080/"
        },
        "id": "23t0kLb3XpjP",
        "outputId": "06b4bc83-339e-47bf-aadf-2babd3988324"
      },
      "source": [
        "from torchtext import data\n",
        "import torch\n",
        "import random\n",
        "\n",
        "MAX_VOCAB_SIZE = 25_000\n",
        "SEED = 1234\n",
        "BATCH_SIZE = 5\n",
        "\n",
        "SENTENCE = data.Field(tokenize='spacy', include_lengths=True)\n",
        "CENSOR = data.LabelField()\n",
        "\n",
        "train_data, test_data = data.TabularDataset.splits(path='',\n",
        "                                                   train='data.json',\n",
        "                                                   test='data.json',\n",
        "                                                   fields={'sentence': ('t', SENTENCE), 'censor': ('l', CENSOR)},\n",
        "                                                   format=\"json\")\n",
        "\n",
        "train_data, valid_data = train_data.split(random_state=random.seed(SEED))\n",
        "\n",
        "device = torch.device('cuda')\n",
        "\n",
        "train_iter, valid_iter, test_iter = data.BucketIterator.splits((train_data, valid_data, test_data),\n",
        "                                                               batch_size=BATCH_SIZE,\n",
        "                                                               device=device,\n",
        "                                                               sort_key=lambda x: len(x.text))\n",
        "\n",
        "SENTENCE.build_vocab(train_data,\n",
        "                 max_size = MAX_VOCAB_SIZE,\n",
        "                 vectors = \"glove.6B.100d\",\n",
        "                 unk_init = torch.Tensor.normal_)\n",
        "\n",
        "CENSOR.build_vocab(train_data)"
      ],
      "execution_count": null,
      "outputs": [
        {
          "output_type": "stream",
          "text": [
            "/usr/local/lib/python3.7/dist-packages/torchtext/data/field.py:150: UserWarning: Field class will be retired soon and moved to torchtext.legacy. Please see the most recent release notes for further information.\n",
            "  warnings.warn('{} class will be retired soon and moved to torchtext.legacy. Please see the most recent release notes for further information.'.format(self.__class__.__name__), UserWarning)\n",
            "/usr/local/lib/python3.7/dist-packages/torchtext/data/field.py:150: UserWarning: LabelField class will be retired soon and moved to torchtext.legacy. Please see the most recent release notes for further information.\n",
            "  warnings.warn('{} class will be retired soon and moved to torchtext.legacy. Please see the most recent release notes for further information.'.format(self.__class__.__name__), UserWarning)\n",
            "/usr/local/lib/python3.7/dist-packages/torchtext/data/example.py:13: UserWarning: Example class will be retired soon and moved to torchtext.legacy. Please see the most recent release notes for further information.\n",
            "  warnings.warn('Example class will be retired soon and moved to torchtext.legacy. Please see the most recent release notes for further information.', UserWarning)\n",
            "/usr/local/lib/python3.7/dist-packages/torchtext/data/iterator.py:48: UserWarning: BucketIterator class will be retired soon and moved to torchtext.legacy. Please see the most recent release notes for further information.\n",
            "  warnings.warn('{} class will be retired soon and moved to torchtext.legacy. Please see the most recent release notes for further information.'.format(self.__class__.__name__), UserWarning)\n"
          ],
          "name": "stderr"
        }
      ]
    },
    {
      "cell_type": "code",
      "metadata": {
        "colab": {
          "base_uri": "https://localhost:8080/"
        },
        "id": "i3oW6kJKVEfb",
        "outputId": "a5530695-d454-46a7-ab3c-46102b3e24bb"
      },
      "source": [
        "print(train_data)"
      ],
      "execution_count": null,
      "outputs": [
        {
          "output_type": "stream",
          "text": [
            "<torchtext.data.dataset.Dataset object at 0x7f32e1803190>\n"
          ],
          "name": "stdout"
        }
      ]
    },
    {
      "cell_type": "code",
      "metadata": {
        "id": "GgyrGVvsTcdD",
        "colab": {
          "base_uri": "https://localhost:8080/"
        },
        "outputId": "c357558d-80ca-446b-a88d-1094e5b3d866"
      },
      "source": [
        "print(vars(train_data[0]))"
      ],
      "execution_count": null,
      "outputs": [
        {
          "output_type": "stream",
          "text": [
            "{'t': ['', '', 'Just', 'a', 'happy', 'Birthday', 'message', 'to', 'you,', '', ',', '', 'from', 'the', 'Wikipedia', 'Birthday', 'Committee!!!', 'Have', 'a', 'great', 'day!', 'Sorry', \"I'm\", 'late', 'with', 'this', 'message...', 'teo'], 'l': 0}\n"
          ],
          "name": "stdout"
        }
      ]
    },
    {
      "cell_type": "code",
      "metadata": {
        "id": "df6mqbZXThFp",
        "colab": {
          "base_uri": "https://localhost:8080/"
        },
        "outputId": "c968c2fe-1b09-47cf-88b9-07fd9740b2bc"
      },
      "source": [
        "BATCH_SIZE = 64\n",
        "\n",
        "device = torch.device('cuda' if torch.cuda.is_available() else 'cpu')\n",
        "\n",
        "train_iterator, valid_iterator = data.BucketIterator.splits(\n",
        "    (train_data, valid_data),\n",
        "    sort_key=lambda x: len(x.t),\n",
        "    batch_size = BATCH_SIZE,\n",
        "    sort_within_batch = True,\n",
        "    device = device)"
      ],
      "execution_count": null,
      "outputs": [
        {
          "output_type": "stream",
          "text": [
            "/usr/local/lib/python3.7/dist-packages/torchtext/data/iterator.py:48: UserWarning: BucketIterator class will be retired soon and moved to torchtext.legacy. Please see the most recent release notes for further information.\n",
            "  warnings.warn('{} class will be retired soon and moved to torchtext.legacy. Please see the most recent release notes for further information.'.format(self.__class__.__name__), UserWarning)\n"
          ],
          "name": "stderr"
        }
      ]
    },
    {
      "cell_type": "code",
      "metadata": {
        "id": "BTdFvD-LMjiE"
      },
      "source": [
        "EPOCHS = 64\n",
        "BATCH_SIZE = 64"
      ],
      "execution_count": null,
      "outputs": []
    },
    {
      "cell_type": "code",
      "metadata": {
        "id": "4iaSNj9vMjvM"
      },
      "source": [
        "import torch.nn as nn\n",
        "\n",
        "class Model(nn.Module):\n",
        "    def __init__(self, vocab_size, embedding_dim, hidden_dim, output_dim, n_layers, bidirectional, dropout, pad_idx):\n",
        "\n",
        "        super().__init__()\n",
        "\n",
        "        self.embedding = nn.Embedding(vocab_size, embedding_dim, padding_idx = pad_idx)\n",
        "\n",
        "        self.rnn = nn.LSTM(embedding_dim,\n",
        "                           hidden_dim,\n",
        "                           num_layers=n_layers,\n",
        "                           bidirectional=bidirectional,\n",
        "                           dropout=dropout)\n",
        "\n",
        "        self.fc = nn.Linear(hidden_dim*2, output_dim)\n",
        "\n",
        "        self.dropout = nn.Dropout(dropout)\n",
        "\n",
        "    def forward(self, text, text_lengths):\n",
        "        embedded = self.dropout(self.embedding(text))\n",
        "        packed_embedded = nn.utils.rnn.pack_padded_sequence(embedded, text_lengths.to('cpu'))\n",
        "        packed_output, (hidden, cell) = self.rnn(packed_embedded)\n",
        "        output, output_lengths = nn.utils.rnn.pad_packed_sequence(packed_output)\n",
        "        hidden = self.dropout(torch.cat((hidden[-2,:,:], hidden[-1,:,:]), dim = 1))\n",
        "        return self.fc(hidden)"
      ],
      "execution_count": null,
      "outputs": []
    },
    {
      "cell_type": "code",
      "metadata": {
        "id": "gXCSlOiSSS1g"
      },
      "source": [
        "INPUT_DIM = len(SENTENCE.vocab)\n",
        "\n",
        "# dummy variables\n",
        "EMBEDDING_DIM = 100\n",
        "HIDDEN_DIM = 256\n",
        "OUTPUT_DIM = 1\n",
        "N_LAYERS = 2\n",
        "BIDIRECTIONAL = True\n",
        "DROPOUT = 0.5\n",
        "PAD_IDX = SENTENCE.vocab.stoi[SENTENCE.pad_token]\n",
        "\n",
        "model = Model(INPUT_DIM,\n",
        "            EMBEDDING_DIM,\n",
        "            HIDDEN_DIM,\n",
        "            OUTPUT_DIM,\n",
        "            N_LAYERS,\n",
        "            BIDIRECTIONAL,\n",
        "            DROPOUT,\n",
        "            PAD_IDX)\n",
        "\n",
        "#add PAD_IDX to model as last layer"
      ],
      "execution_count": null,
      "outputs": []
    },
    {
      "cell_type": "code",
      "metadata": {
        "id": "x_JakUiRVlRw",
        "colab": {
          "base_uri": "https://localhost:8080/"
        },
        "outputId": "36d59d4a-6322-43e4-86cd-bb648bffc003"
      },
      "source": [
        "pretrained_embeddings = SENTENCE.vocab.vectors\n",
        "\n",
        "print(pretrained_embeddings.shape)"
      ],
      "execution_count": null,
      "outputs": [
        {
          "output_type": "stream",
          "text": [
            "torch.Size([25002, 100])\n"
          ],
          "name": "stdout"
        }
      ]
    },
    {
      "cell_type": "code",
      "metadata": {
        "id": "0HH1zyh-TyWv",
        "colab": {
          "base_uri": "https://localhost:8080/"
        },
        "outputId": "c4456c0c-60a4-4bd8-a3d3-f67779ac304d"
      },
      "source": [
        "model.embedding.weight.data.copy_(pretrained_embeddings)"
      ],
      "execution_count": null,
      "outputs": [
        {
          "output_type": "execute_result",
          "data": {
            "text/plain": [
              "tensor([[-0.2908, -0.1897, -1.1554,  ..., -0.1292, -1.2303,  0.3283],\n",
              "        [-0.0468,  0.5118, -1.0386,  ...,  1.4428, -2.0774,  1.6841],\n",
              "        [ 0.8044, -1.1685,  1.8856,  ...,  1.2848,  0.2626,  1.5202],\n",
              "        ...,\n",
              "        [ 0.4782, -0.5404, -1.8752,  ...,  0.7465, -0.5246, -1.7415],\n",
              "        [-0.1357, -0.5353, -1.5545,  ...,  1.1116, -0.6457,  0.3752],\n",
              "        [ 0.6108, -1.5726,  0.7399,  ..., -1.6757,  0.3498, -1.7009]])"
            ]
          },
          "metadata": {
            "tags": []
          },
          "execution_count": 319
        }
      ]
    },
    {
      "cell_type": "code",
      "metadata": {
        "id": "_3qBo9hTT1eg"
      },
      "source": [
        "import torch.optim as optim\n",
        "\n",
        "optimizer = optim.Adam(model.parameters())"
      ],
      "execution_count": null,
      "outputs": []
    },
    {
      "cell_type": "code",
      "metadata": {
        "id": "fh02X2Q3T4GC"
      },
      "source": [
        "criterion = nn.BCEWithLogitsLoss()\n",
        "\n",
        "model = model.to(device)\n",
        "criterion = criterion.to(device)"
      ],
      "execution_count": null,
      "outputs": []
    },
    {
      "cell_type": "code",
      "metadata": {
        "id": "eAelpvGDT6Wc"
      },
      "source": [
        "def binary_accuracy(preds, y):\n",
        "    \"\"\"\n",
        "    Returns accuracy per batch, i.e. if you get 8/10 right, this returns 0.8, NOT 8\n",
        "    \"\"\"\n",
        "\n",
        "    #round predictions to the closest integer\n",
        "    rounded_preds = torch.round(torch.sigmoid(preds))\n",
        "    correct = (rounded_preds == y).float() #convert into float for division\n",
        "    acc = correct.sum() / len(correct)\n",
        "    return acc"
      ],
      "execution_count": null,
      "outputs": []
    },
    {
      "cell_type": "code",
      "metadata": {
        "id": "Hhi3bBVST_xH"
      },
      "source": [
        "from torch.autograd import Variable\n",
        "\n",
        "def train(model, iterator, optimizer, criterion):\n",
        "\n",
        "    epoch_loss = 0\n",
        "    epoch_acc = 0\n",
        "\n",
        "    model.train()\n",
        "\n",
        "    for batch in iterator:\n",
        "\n",
        "        optimizer.zero_grad()\n",
        "\n",
        "        text, text_lengths = batch.t\n",
        "\n",
        "        predictions = model(text, text_lengths).squeeze(1)\n",
        "\n",
        "        loss = criterion(predictions, batch.l.type_as(predictions))\n",
        "\n",
        "        acc = binary_accuracy(predictions,batch.l.type_as(predictions))\n",
        "\n",
        "        loss.backward()\n",
        "\n",
        "        optimizer.step()\n",
        "\n",
        "        epoch_loss += loss.item()\n",
        "        epoch_acc += acc.item()\n",
        "\n",
        "    return epoch_loss / len(iterator), epoch_acc / len(iterator)"
      ],
      "execution_count": null,
      "outputs": []
    },
    {
      "cell_type": "code",
      "metadata": {
        "id": "ekA4VSBDUAUw"
      },
      "source": [
        "def evaluate(model, iterator, criterion):\n",
        "\n",
        "    epoch_loss = 0\n",
        "    epoch_acc = 0\n",
        "\n",
        "    model.eval()\n",
        "\n",
        "    with torch.no_grad():\n",
        "\n",
        "        for batch in iterator:\n",
        "\n",
        "            text, text_lengths = batch.t\n",
        "\n",
        "            predictions = model(text, text_lengths).squeeze(1)\n",
        "\n",
        "            loss = criterion(predictions, batch.l.type_as(predictions))\n",
        "\n",
        "            acc = binary_accuracy(predictions, batch.l.type_as(predictions))\n",
        "\n",
        "            epoch_loss += loss.item()\n",
        "            epoch_acc += acc.item()\n",
        "\n",
        "    return epoch_loss / len(iterator), epoch_acc / len(iterator)"
      ],
      "execution_count": null,
      "outputs": []
    },
    {
      "cell_type": "code",
      "metadata": {
        "id": "84NN4cVyUEo1"
      },
      "source": [
        "import time\n",
        "\n",
        "def epoch_time(start_time, end_time):\n",
        "    elapsed_time = end_time - start_time\n",
        "    elapsed_mins = int(elapsed_time / 60)\n",
        "    elapsed_secs = int(elapsed_time - (elapsed_mins * 60))\n",
        "    return elapsed_mins, elapsed_secs"
      ],
      "execution_count": null,
      "outputs": []
    },
    {
      "cell_type": "code",
      "metadata": {
        "id": "2fCeMkdVUG3k",
        "colab": {
          "base_uri": "https://localhost:8080/"
        },
        "outputId": "592607d8-92b7-4917-dc0e-d83a927ef9c8"
      },
      "source": [
        "best_valid_loss = float('inf')\n",
        "\n",
        "for epoch in range(EPOCHS):\n",
        "\n",
        "    start_time = time.time()\n",
        "\n",
        "    train_loss, train_acc = train(model, train_iterator, optimizer, criterion)\n",
        "    valid_loss, valid_acc = evaluate(model, valid_iterator, criterion)\n",
        "\n",
        "    end_time = time.time()\n",
        "\n",
        "    epoch_mins, epoch_secs = epoch_time(start_time, end_time)\n",
        "\n",
        "    if valid_loss < best_valid_loss:\n",
        "        best_valid_loss = valid_loss\n",
        "        torch.save(model.state_dict(), 'tut2-model.pt')\n",
        "\n",
        "    print(f'Epoch: {epoch+1:02} | Epoch Time: {epoch_mins}m {epoch_secs}s')\n",
        "    print(f'\\tTrain Loss: {train_loss:.3f} | Train Acc: {train_acc*100:.2f}%')\n",
        "    print(f'\\t Val. Loss: {valid_loss:.3f} |  Val. Acc: {valid_acc*100:.2f}%')"
      ],
      "execution_count": null,
      "outputs": [
        {
          "output_type": "stream",
          "text": [
            "/usr/local/lib/python3.7/dist-packages/torchtext/data/batch.py:23: UserWarning: Batch class will be retired soon and moved to torchtext.legacy. Please see the most recent release notes for further information.\n",
            "  warnings.warn('{} class will be retired soon and moved to torchtext.legacy. Please see the most recent release notes for further information.'.format(self.__class__.__name__), UserWarning)\n"
          ],
          "name": "stderr"
        },
        {
          "output_type": "stream",
          "text": [
            "Epoch: 01 | Epoch Time: 0m 4s\n",
            "\tTrain Loss: 0.295 | Train Acc: 90.12%\n",
            "\t Val. Loss: 0.265 |  Val. Acc: 90.01%\n",
            "Epoch: 02 | Epoch Time: 0m 4s\n",
            "\tTrain Loss: 0.234 | Train Acc: 91.86%\n",
            "\t Val. Loss: 0.259 |  Val. Acc: 90.79%\n",
            "Epoch: 03 | Epoch Time: 0m 4s\n",
            "\tTrain Loss: 0.220 | Train Acc: 91.86%\n",
            "\t Val. Loss: 0.233 |  Val. Acc: 91.87%\n",
            "Epoch: 04 | Epoch Time: 0m 4s\n",
            "\tTrain Loss: 0.197 | Train Acc: 92.74%\n",
            "\t Val. Loss: 0.227 |  Val. Acc: 91.76%\n",
            "Epoch: 05 | Epoch Time: 0m 4s\n",
            "\tTrain Loss: 0.173 | Train Acc: 93.58%\n",
            "\t Val. Loss: 0.220 |  Val. Acc: 91.63%\n",
            "Epoch: 06 | Epoch Time: 0m 5s\n",
            "\tTrain Loss: 0.152 | Train Acc: 94.28%\n",
            "\t Val. Loss: 0.212 |  Val. Acc: 92.38%\n",
            "Epoch: 07 | Epoch Time: 0m 4s\n",
            "\tTrain Loss: 0.158 | Train Acc: 93.92%\n",
            "\t Val. Loss: 0.209 |  Val. Acc: 91.32%\n",
            "Epoch: 08 | Epoch Time: 0m 4s\n",
            "\tTrain Loss: 0.127 | Train Acc: 95.23%\n",
            "\t Val. Loss: 0.192 |  Val. Acc: 92.82%\n",
            "Epoch: 09 | Epoch Time: 0m 4s\n",
            "\tTrain Loss: 0.125 | Train Acc: 95.34%\n",
            "\t Val. Loss: 0.197 |  Val. Acc: 92.75%\n",
            "Epoch: 10 | Epoch Time: 0m 4s\n",
            "\tTrain Loss: 0.101 | Train Acc: 96.36%\n",
            "\t Val. Loss: 0.211 |  Val. Acc: 92.82%\n",
            "Epoch: 11 | Epoch Time: 0m 4s\n",
            "\tTrain Loss: 0.087 | Train Acc: 96.78%\n",
            "\t Val. Loss: 0.243 |  Val. Acc: 92.71%\n",
            "Epoch: 12 | Epoch Time: 0m 5s\n",
            "\tTrain Loss: 0.078 | Train Acc: 97.09%\n",
            "\t Val. Loss: 0.280 |  Val. Acc: 92.64%\n",
            "Epoch: 13 | Epoch Time: 0m 5s\n",
            "\tTrain Loss: 0.073 | Train Acc: 97.40%\n",
            "\t Val. Loss: 0.238 |  Val. Acc: 92.77%\n",
            "Epoch: 14 | Epoch Time: 0m 5s\n",
            "\tTrain Loss: 0.055 | Train Acc: 98.03%\n",
            "\t Val. Loss: 0.305 |  Val. Acc: 92.68%\n",
            "Epoch: 15 | Epoch Time: 0m 5s\n",
            "\tTrain Loss: 0.055 | Train Acc: 97.80%\n",
            "\t Val. Loss: 0.261 |  Val. Acc: 92.83%\n",
            "Epoch: 16 | Epoch Time: 0m 5s\n",
            "\tTrain Loss: 0.046 | Train Acc: 98.31%\n",
            "\t Val. Loss: 0.322 |  Val. Acc: 92.85%\n",
            "Epoch: 17 | Epoch Time: 0m 5s\n",
            "\tTrain Loss: 0.044 | Train Acc: 98.35%\n",
            "\t Val. Loss: 0.282 |  Val. Acc: 92.57%\n",
            "Epoch: 18 | Epoch Time: 0m 5s\n",
            "\tTrain Loss: 0.036 | Train Acc: 98.65%\n",
            "\t Val. Loss: 0.295 |  Val. Acc: 92.91%\n",
            "Epoch: 19 | Epoch Time: 0m 5s\n",
            "\tTrain Loss: 0.029 | Train Acc: 98.92%\n",
            "\t Val. Loss: 0.307 |  Val. Acc: 92.93%\n",
            "Epoch: 20 | Epoch Time: 0m 5s\n",
            "\tTrain Loss: 0.028 | Train Acc: 98.96%\n",
            "\t Val. Loss: 0.288 |  Val. Acc: 92.13%\n",
            "Epoch: 21 | Epoch Time: 0m 5s\n",
            "\tTrain Loss: 0.029 | Train Acc: 98.87%\n",
            "\t Val. Loss: 0.365 |  Val. Acc: 92.75%\n",
            "Epoch: 22 | Epoch Time: 0m 5s\n",
            "\tTrain Loss: 0.033 | Train Acc: 98.87%\n",
            "\t Val. Loss: 0.302 |  Val. Acc: 92.74%\n",
            "Epoch: 23 | Epoch Time: 0m 5s\n",
            "\tTrain Loss: 0.024 | Train Acc: 99.14%\n",
            "\t Val. Loss: 0.367 |  Val. Acc: 92.91%\n",
            "Epoch: 24 | Epoch Time: 0m 5s\n",
            "\tTrain Loss: 0.022 | Train Acc: 99.17%\n",
            "\t Val. Loss: 0.332 |  Val. Acc: 93.02%\n",
            "Epoch: 25 | Epoch Time: 0m 5s\n",
            "\tTrain Loss: 0.019 | Train Acc: 99.31%\n",
            "\t Val. Loss: 0.351 |  Val. Acc: 92.44%\n",
            "Epoch: 26 | Epoch Time: 0m 5s\n",
            "\tTrain Loss: 0.019 | Train Acc: 99.42%\n",
            "\t Val. Loss: 0.299 |  Val. Acc: 92.25%\n",
            "Epoch: 27 | Epoch Time: 0m 5s\n",
            "\tTrain Loss: 0.018 | Train Acc: 99.41%\n",
            "\t Val. Loss: 0.340 |  Val. Acc: 93.11%\n",
            "Epoch: 28 | Epoch Time: 0m 5s\n",
            "\tTrain Loss: 0.016 | Train Acc: 99.41%\n",
            "\t Val. Loss: 0.377 |  Val. Acc: 93.04%\n",
            "Epoch: 29 | Epoch Time: 0m 5s\n",
            "\tTrain Loss: 0.015 | Train Acc: 99.39%\n",
            "\t Val. Loss: 0.380 |  Val. Acc: 92.82%\n",
            "Epoch: 30 | Epoch Time: 0m 5s\n",
            "\tTrain Loss: 0.015 | Train Acc: 99.42%\n",
            "\t Val. Loss: 0.411 |  Val. Acc: 93.25%\n",
            "Epoch: 31 | Epoch Time: 0m 5s\n",
            "\tTrain Loss: 0.016 | Train Acc: 99.44%\n",
            "\t Val. Loss: 0.402 |  Val. Acc: 92.56%\n",
            "Epoch: 32 | Epoch Time: 0m 5s\n",
            "\tTrain Loss: 0.017 | Train Acc: 99.31%\n",
            "\t Val. Loss: 0.403 |  Val. Acc: 92.36%\n",
            "Epoch: 33 | Epoch Time: 0m 5s\n",
            "\tTrain Loss: 0.012 | Train Acc: 99.65%\n",
            "\t Val. Loss: 0.393 |  Val. Acc: 92.57%\n",
            "Epoch: 34 | Epoch Time: 0m 5s\n",
            "\tTrain Loss: 0.011 | Train Acc: 99.62%\n",
            "\t Val. Loss: 0.456 |  Val. Acc: 93.01%\n",
            "Epoch: 35 | Epoch Time: 0m 5s\n",
            "\tTrain Loss: 0.009 | Train Acc: 99.69%\n",
            "\t Val. Loss: 0.599 |  Val. Acc: 92.77%\n",
            "Epoch: 36 | Epoch Time: 0m 5s\n",
            "\tTrain Loss: 0.012 | Train Acc: 99.55%\n",
            "\t Val. Loss: 0.458 |  Val. Acc: 92.62%\n",
            "Epoch: 37 | Epoch Time: 0m 5s\n",
            "\tTrain Loss: 0.015 | Train Acc: 99.45%\n",
            "\t Val. Loss: 0.427 |  Val. Acc: 92.39%\n",
            "Epoch: 38 | Epoch Time: 0m 5s\n",
            "\tTrain Loss: 0.010 | Train Acc: 99.66%\n",
            "\t Val. Loss: 0.436 |  Val. Acc: 92.88%\n",
            "Epoch: 39 | Epoch Time: 0m 5s\n",
            "\tTrain Loss: 0.010 | Train Acc: 99.72%\n",
            "\t Val. Loss: 0.444 |  Val. Acc: 92.83%\n",
            "Epoch: 40 | Epoch Time: 0m 5s\n",
            "\tTrain Loss: 0.010 | Train Acc: 99.75%\n",
            "\t Val. Loss: 0.460 |  Val. Acc: 93.01%\n",
            "Epoch: 41 | Epoch Time: 0m 5s\n",
            "\tTrain Loss: 0.009 | Train Acc: 99.72%\n",
            "\t Val. Loss: 0.488 |  Val. Acc: 92.36%\n",
            "Epoch: 42 | Epoch Time: 0m 5s\n",
            "\tTrain Loss: 0.011 | Train Acc: 99.66%\n",
            "\t Val. Loss: 0.394 |  Val. Acc: 92.70%\n",
            "Epoch: 43 | Epoch Time: 0m 5s\n",
            "\tTrain Loss: 0.007 | Train Acc: 99.80%\n",
            "\t Val. Loss: 0.581 |  Val. Acc: 92.58%\n",
            "Epoch: 44 | Epoch Time: 0m 5s\n",
            "\tTrain Loss: 0.014 | Train Acc: 99.52%\n",
            "\t Val. Loss: 0.451 |  Val. Acc: 92.00%\n",
            "Epoch: 45 | Epoch Time: 0m 5s\n",
            "\tTrain Loss: 0.008 | Train Acc: 99.76%\n",
            "\t Val. Loss: 0.478 |  Val. Acc: 92.70%\n",
            "Epoch: 46 | Epoch Time: 0m 5s\n",
            "\tTrain Loss: 0.005 | Train Acc: 99.80%\n",
            "\t Val. Loss: 0.512 |  Val. Acc: 93.12%\n",
            "Epoch: 47 | Epoch Time: 0m 5s\n",
            "\tTrain Loss: 0.009 | Train Acc: 99.66%\n",
            "\t Val. Loss: 0.499 |  Val. Acc: 91.75%\n",
            "Epoch: 48 | Epoch Time: 0m 5s\n",
            "\tTrain Loss: 0.008 | Train Acc: 99.72%\n",
            "\t Val. Loss: 0.440 |  Val. Acc: 92.78%\n",
            "Epoch: 49 | Epoch Time: 0m 5s\n",
            "\tTrain Loss: 0.011 | Train Acc: 99.56%\n",
            "\t Val. Loss: 0.458 |  Val. Acc: 92.78%\n",
            "Epoch: 50 | Epoch Time: 0m 5s\n",
            "\tTrain Loss: 0.005 | Train Acc: 99.87%\n",
            "\t Val. Loss: 0.502 |  Val. Acc: 92.80%\n",
            "Epoch: 51 | Epoch Time: 0m 5s\n",
            "\tTrain Loss: 0.004 | Train Acc: 99.86%\n",
            "\t Val. Loss: 0.548 |  Val. Acc: 92.72%\n",
            "Epoch: 52 | Epoch Time: 0m 5s\n",
            "\tTrain Loss: 0.007 | Train Acc: 99.79%\n",
            "\t Val. Loss: 0.525 |  Val. Acc: 92.70%\n",
            "Epoch: 53 | Epoch Time: 0m 5s\n",
            "\tTrain Loss: 0.006 | Train Acc: 99.76%\n",
            "\t Val. Loss: 0.508 |  Val. Acc: 92.52%\n",
            "Epoch: 54 | Epoch Time: 0m 5s\n",
            "\tTrain Loss: 0.004 | Train Acc: 99.83%\n",
            "\t Val. Loss: 0.584 |  Val. Acc: 92.82%\n",
            "Epoch: 55 | Epoch Time: 0m 5s\n",
            "\tTrain Loss: 0.009 | Train Acc: 99.72%\n",
            "\t Val. Loss: 0.502 |  Val. Acc: 92.49%\n",
            "Epoch: 56 | Epoch Time: 0m 5s\n",
            "\tTrain Loss: 0.007 | Train Acc: 99.69%\n",
            "\t Val. Loss: 0.539 |  Val. Acc: 92.48%\n",
            "Epoch: 57 | Epoch Time: 0m 5s\n",
            "\tTrain Loss: 0.004 | Train Acc: 99.85%\n",
            "\t Val. Loss: 0.607 |  Val. Acc: 92.78%\n",
            "Epoch: 58 | Epoch Time: 0m 5s\n",
            "\tTrain Loss: 0.008 | Train Acc: 99.72%\n",
            "\t Val. Loss: 0.541 |  Val. Acc: 91.91%\n",
            "Epoch: 59 | Epoch Time: 0m 5s\n",
            "\tTrain Loss: 0.006 | Train Acc: 99.70%\n",
            "\t Val. Loss: 0.515 |  Val. Acc: 93.01%\n",
            "Epoch: 60 | Epoch Time: 0m 5s\n",
            "\tTrain Loss: 0.004 | Train Acc: 99.85%\n",
            "\t Val. Loss: 0.489 |  Val. Acc: 92.89%\n",
            "Epoch: 61 | Epoch Time: 0m 5s\n",
            "\tTrain Loss: 0.004 | Train Acc: 99.85%\n",
            "\t Val. Loss: 0.583 |  Val. Acc: 93.07%\n",
            "Epoch: 62 | Epoch Time: 0m 5s\n",
            "\tTrain Loss: 0.004 | Train Acc: 99.83%\n",
            "\t Val. Loss: 0.540 |  Val. Acc: 92.82%\n",
            "Epoch: 63 | Epoch Time: 0m 5s\n",
            "\tTrain Loss: 0.007 | Train Acc: 99.83%\n",
            "\t Val. Loss: 0.493 |  Val. Acc: 92.93%\n",
            "Epoch: 64 | Epoch Time: 0m 5s\n",
            "\tTrain Loss: 0.005 | Train Acc: 99.80%\n",
            "\t Val. Loss: 0.508 |  Val. Acc: 92.17%\n"
          ],
          "name": "stdout"
        }
      ]
    },
    {
      "cell_type": "code",
      "metadata": {
        "id": "nZPrTHjdUNjY"
      },
      "source": [
        "import spacy\n",
        "nlp = spacy.load('en_core_web_sm')\n",
        "\n",
        "def predict_censor(model, sentence):\n",
        "    model.eval()\n",
        "    tokenized = [tok.text for tok in nlp.tokenizer(sentence)]\n",
        "    indexed = [SENTENCE.vocab.stoi[t] for t in tokenized]\n",
        "    length = [len(indexed)]\n",
        "    tensor = torch.LongTensor(indexed).to(device)\n",
        "    tensor = tensor.unsqueeze(1)\n",
        "    length_tensor = torch.LongTensor(length)\n",
        "    prediction = (torch.sigmoid(model(tensor, length_tensor)))\n",
        "    return prediction.item()"
      ],
      "execution_count": null,
      "outputs": []
    },
    {
      "cell_type": "code",
      "metadata": {
        "id": "04yugr-Ucptz",
        "colab": {
          "base_uri": "https://localhost:8080/"
        },
        "outputId": "6d388971-5d33-4e1d-b25c-af10bd076eca"
      },
      "source": [
        "pred = predict_censor(model, \"hell\")\n",
        "pred = pred*100\n",
        "pred = round(pred, 1)\n",
        "\n",
        "print(\"Here is my prediction: \" + str(pred) + \"%\")"
      ],
      "execution_count": null,
      "outputs": [
        {
          "output_type": "stream",
          "text": [
            "Here is my prediction: 100.0%\n"
          ],
          "name": "stdout"
        }
      ]
    },
    {
      "cell_type": "code",
      "metadata": {
        "id": "50QRcu84f3lC"
      },
      "source": [],
      "execution_count": null,
      "outputs": []
    }
  ]
}