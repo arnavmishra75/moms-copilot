{
  "cells": [
    {
      "cell_type": "code",
      "execution_count": null,
      "metadata": {
        "colab": {
          "base_uri": "https://localhost:8080/"
        },
        "id": "UQcdGOQXJITT",
        "outputId": "b25b3525-571a-4311-9cd4-aa3f8b41126d"
      },
      "outputs": [],
      "source": [
        "!pip install torchtext==0.8.1"
      ]
    },
    {
      "cell_type": "code",
      "execution_count": null,
      "metadata": {
        "colab": {
          "base_uri": "https://localhost:8080/"
        },
        "id": "zDOwFHsjg06H",
        "outputId": "3bf387eb-d1f0-4ef0-fe85-77311b9da524"
      },
      "outputs": [],
      "source": [
        "!pip list|grep spacy"
      ]
    },
    {
      "cell_type": "code",
      "execution_count": null,
      "metadata": {
        "id": "U4SaRGOFG6Rk"
      },
      "outputs": [],
      "source": [
        "import json\n",
        "new_f = open(\"data.json\", \"w\")\n",
        "with open('latest.json', 'r') as old_f:\n",
        "  count = 0\n",
        "  for line in old_f:\n",
        "    if \"['\\\"\" in line:\n",
        "      line = line.replace(\"['\\\"\", \"[\\\"\")\n",
        "    if \"['\" in line:\n",
        "      line = line.replace(\"['\", \"[\\\"\")\n",
        "    if \"\\\"']\" in line:\n",
        "      line = line.replace(\"\\\"']\", \"\\\"]\")\n",
        "    if \"']\" in line:\n",
        "      line = line.replace(\"']\", \"\\\"]\")\n",
        "    if \"\\\"\\\"\" in line:\n",
        "      line = line.replace(\"\\\"\\\"\", \"\")\n",
        "    if \"\\\\n\" in line:\n",
        "      line = line.replace(\"\\\\n\", \" \")\n",
        "    if \"\\\\\" in line:\n",
        "      line = line.replace(\"\\\\\", \"\")\n",
        "    if \"\\\\'\" in line:\n",
        "      line = line.replace(\"\\\\'\", \"'\")\n",
        "    dictionary = json.loads(line)\n",
        "    new_list = dictionary[\"sentence\"][0].split(\" \")\n",
        "    new_list.pop()\n",
        "    dictionary[\"sentence\"] = new_list\n",
        "    json_object = json.dumps(dictionary, indent = None)\n",
        "    if count == 0:\n",
        "      pass\n",
        "    else:\n",
        "      new_f.write(\"\\n\")\n",
        "    count += 1\n",
        "    #print(json_object)\n",
        "    new_f.write(json_object)\n",
        "print(count)"
      ]
    },
    {
      "cell_type": "code",
      "execution_count": null,
      "metadata": {
        "colab": {
          "base_uri": "https://localhost:8080/"
        },
        "id": "23t0kLb3XpjP",
        "outputId": "06b4bc83-339e-47bf-aadf-2babd3988324"
      },
      "outputs": [],
      "source": [
        "from torchtext import data\n",
        "import torch\n",
        "import random\n",
        "\n",
        "MAX_VOCAB_SIZE = 25_000\n",
        "SEED = 1234\n",
        "BATCH_SIZE = 5\n",
        "\n",
        "SENTENCE = data.Field(tokenize='spacy', include_lengths=True)\n",
        "CENSOR = data.LabelField()\n",
        "\n",
        "train_data, test_data = data.TabularDataset.splits(path='',\n",
        "                                                   train='data.json',\n",
        "                                                   test='data.json',\n",
        "                                                   fields={'sentence': ('t', SENTENCE), 'censor': ('l', CENSOR)},\n",
        "                                                   format=\"json\")\n",
        "\n",
        "train_data, valid_data = train_data.split(random_state=random.seed(SEED))\n",
        "\n",
        "device = torch.device('cuda')\n",
        "\n",
        "train_iter, valid_iter, test_iter = data.BucketIterator.splits((train_data, valid_data, test_data),\n",
        "                                                               batch_size=BATCH_SIZE,\n",
        "                                                               device=device,\n",
        "                                                               sort_key=lambda x: len(x.text))\n",
        "\n",
        "SENTENCE.build_vocab(train_data,\n",
        "                 max_size = MAX_VOCAB_SIZE,\n",
        "                 vectors = \"glove.6B.100d\",\n",
        "                 unk_init = torch.Tensor.normal_)\n",
        "\n",
        "CENSOR.build_vocab(train_data)"
      ]
    },
    {
      "cell_type": "code",
      "execution_count": null,
      "metadata": {
        "colab": {
          "base_uri": "https://localhost:8080/"
        },
        "id": "i3oW6kJKVEfb",
        "outputId": "a5530695-d454-46a7-ab3c-46102b3e24bb"
      },
      "outputs": [],
      "source": [
        "print(train_data)"
      ]
    },
    {
      "cell_type": "code",
      "execution_count": null,
      "metadata": {
        "colab": {
          "base_uri": "https://localhost:8080/"
        },
        "id": "GgyrGVvsTcdD",
        "outputId": "c357558d-80ca-446b-a88d-1094e5b3d866"
      },
      "outputs": [],
      "source": [
        "print(vars(train_data[0]))"
      ]
    },
    {
      "cell_type": "code",
      "execution_count": null,
      "metadata": {
        "colab": {
          "base_uri": "https://localhost:8080/"
        },
        "id": "df6mqbZXThFp",
        "outputId": "c968c2fe-1b09-47cf-88b9-07fd9740b2bc"
      },
      "outputs": [],
      "source": [
        "BATCH_SIZE = 64\n",
        "\n",
        "device = torch.device('cuda' if torch.cuda.is_available() else 'cpu')\n",
        "\n",
        "train_iterator, valid_iterator = data.BucketIterator.splits(\n",
        "    (train_data, valid_data),\n",
        "    sort_key=lambda x: len(x.t),\n",
        "    batch_size = BATCH_SIZE,\n",
        "    sort_within_batch = True,\n",
        "    device = device)"
      ]
    },
    {
      "cell_type": "code",
      "execution_count": null,
      "metadata": {
        "id": "BTdFvD-LMjiE"
      },
      "outputs": [],
      "source": [
        "EPOCHS = 64\n",
        "BATCH_SIZE = 64"
      ]
    },
    {
      "cell_type": "code",
      "execution_count": null,
      "metadata": {
        "id": "4iaSNj9vMjvM"
      },
      "outputs": [],
      "source": [
        "import torch.nn as nn\n",
        "\n",
        "class Model(nn.Module):\n",
        "    def __init__(self, vocab_size, embedding_dim, hidden_dim, output_dim, n_layers, bidirectional, dropout, pad_idx):\n",
        "\n",
        "        super().__init__()\n",
        "\n",
        "        self.embedding = nn.Embedding(vocab_size, embedding_dim, padding_idx = pad_idx)\n",
        "\n",
        "        self.rnn = nn.LSTM(embedding_dim,\n",
        "                           hidden_dim,\n",
        "                           num_layers=n_layers,\n",
        "                           bidirectional=bidirectional,\n",
        "                           dropout=dropout)\n",
        "\n",
        "        self.fc = nn.Linear(hidden_dim*2, output_dim)\n",
        "\n",
        "        self.dropout = nn.Dropout(dropout)\n",
        "\n",
        "    def forward(self, text, text_lengths):\n",
        "        embedded = self.dropout(self.embedding(text))\n",
        "        packed_embedded = nn.utils.rnn.pack_padded_sequence(embedded, text_lengths.to('cpu'))\n",
        "        packed_output, (hidden, cell) = self.rnn(packed_embedded)\n",
        "        output, output_lengths = nn.utils.rnn.pad_packed_sequence(packed_output)\n",
        "        hidden = self.dropout(torch.cat((hidden[-2,:,:], hidden[-1,:,:]), dim = 1))\n",
        "        return self.fc(hidden)"
      ]
    },
    {
      "cell_type": "code",
      "execution_count": null,
      "metadata": {
        "id": "gXCSlOiSSS1g"
      },
      "outputs": [],
      "source": [
        "INPUT_DIM = len(SENTENCE.vocab)\n",
        "\n",
        "# dummy variables\n",
        "EMBEDDING_DIM = 100\n",
        "HIDDEN_DIM = 256\n",
        "OUTPUT_DIM = 1\n",
        "N_LAYERS = 2\n",
        "BIDIRECTIONAL = True\n",
        "DROPOUT = 0.5\n",
        "PAD_IDX = SENTENCE.vocab.stoi[SENTENCE.pad_token]\n",
        "\n",
        "model = Model(INPUT_DIM,\n",
        "            EMBEDDING_DIM,\n",
        "            HIDDEN_DIM,\n",
        "            OUTPUT_DIM,\n",
        "            N_LAYERS,\n",
        "            BIDIRECTIONAL,\n",
        "            DROPOUT,\n",
        "            PAD_IDX)\n",
        "\n",
        "#add PAD_IDX to model as last layer"
      ]
    },
    {
      "cell_type": "code",
      "execution_count": null,
      "metadata": {
        "colab": {
          "base_uri": "https://localhost:8080/"
        },
        "id": "x_JakUiRVlRw",
        "outputId": "36d59d4a-6322-43e4-86cd-bb648bffc003"
      },
      "outputs": [],
      "source": [
        "pretrained_embeddings = SENTENCE.vocab.vectors\n",
        "\n",
        "print(pretrained_embeddings.shape)"
      ]
    },
    {
      "cell_type": "code",
      "execution_count": null,
      "metadata": {
        "colab": {
          "base_uri": "https://localhost:8080/"
        },
        "id": "0HH1zyh-TyWv",
        "outputId": "c4456c0c-60a4-4bd8-a3d3-f67779ac304d"
      },
      "outputs": [],
      "source": [
        "model.embedding.weight.data.copy_(pretrained_embeddings)"
      ]
    },
    {
      "cell_type": "code",
      "execution_count": null,
      "metadata": {
        "id": "_3qBo9hTT1eg"
      },
      "outputs": [],
      "source": [
        "import torch.optim as optim\n",
        "\n",
        "optimizer = optim.Adam(model.parameters())"
      ]
    },
    {
      "cell_type": "code",
      "execution_count": null,
      "metadata": {
        "id": "fh02X2Q3T4GC"
      },
      "outputs": [],
      "source": [
        "criterion = nn.BCEWithLogitsLoss()\n",
        "\n",
        "model = model.to(device)\n",
        "criterion = criterion.to(device)"
      ]
    },
    {
      "cell_type": "code",
      "execution_count": null,
      "metadata": {
        "id": "eAelpvGDT6Wc"
      },
      "outputs": [],
      "source": [
        "def binary_accuracy(preds, y):\n",
        "    \"\"\"\n",
        "    Returns accuracy per batch, i.e. if you get 8/10 right, this returns 0.8, NOT 8\n",
        "    \"\"\"\n",
        "\n",
        "    #round predictions to the closest integer\n",
        "    rounded_preds = torch.round(torch.sigmoid(preds))\n",
        "    correct = (rounded_preds == y).float() #convert into float for division\n",
        "    acc = correct.sum() / len(correct)\n",
        "    return acc"
      ]
    },
    {
      "cell_type": "code",
      "execution_count": null,
      "metadata": {
        "id": "Hhi3bBVST_xH"
      },
      "outputs": [],
      "source": [
        "from torch.autograd import Variable\n",
        "\n",
        "def train(model, iterator, optimizer, criterion):\n",
        "\n",
        "    epoch_loss = 0\n",
        "    epoch_acc = 0\n",
        "\n",
        "    model.train()\n",
        "\n",
        "    for batch in iterator:\n",
        "\n",
        "        optimizer.zero_grad()\n",
        "\n",
        "        text, text_lengths = batch.t\n",
        "\n",
        "        predictions = model(text, text_lengths).squeeze(1)\n",
        "\n",
        "        loss = criterion(predictions, batch.l.type_as(predictions))\n",
        "\n",
        "        acc = binary_accuracy(predictions,batch.l.type_as(predictions))\n",
        "\n",
        "        loss.backward()\n",
        "\n",
        "        optimizer.step()\n",
        "\n",
        "        epoch_loss += loss.item()\n",
        "        epoch_acc += acc.item()\n",
        "\n",
        "    return epoch_loss / len(iterator), epoch_acc / len(iterator)"
      ]
    },
    {
      "cell_type": "code",
      "execution_count": null,
      "metadata": {
        "id": "ekA4VSBDUAUw"
      },
      "outputs": [],
      "source": [
        "def evaluate(model, iterator, criterion):\n",
        "\n",
        "    epoch_loss = 0\n",
        "    epoch_acc = 0\n",
        "\n",
        "    model.eval()\n",
        "\n",
        "    with torch.no_grad():\n",
        "\n",
        "        for batch in iterator:\n",
        "\n",
        "            text, text_lengths = batch.t\n",
        "\n",
        "            predictions = model(text, text_lengths).squeeze(1)\n",
        "\n",
        "            loss = criterion(predictions, batch.l.type_as(predictions))\n",
        "\n",
        "            acc = binary_accuracy(predictions, batch.l.type_as(predictions))\n",
        "\n",
        "            epoch_loss += loss.item()\n",
        "            epoch_acc += acc.item()\n",
        "\n",
        "    return epoch_loss / len(iterator), epoch_acc / len(iterator)"
      ]
    },
    {
      "cell_type": "code",
      "execution_count": null,
      "metadata": {
        "id": "84NN4cVyUEo1"
      },
      "outputs": [],
      "source": [
        "import time\n",
        "\n",
        "def epoch_time(start_time, end_time):\n",
        "    elapsed_time = end_time - start_time\n",
        "    elapsed_mins = int(elapsed_time / 60)\n",
        "    elapsed_secs = int(elapsed_time - (elapsed_mins * 60))\n",
        "    return elapsed_mins, elapsed_secs"
      ]
    },
    {
      "cell_type": "code",
      "execution_count": null,
      "metadata": {
        "colab": {
          "base_uri": "https://localhost:8080/"
        },
        "id": "2fCeMkdVUG3k",
        "outputId": "592607d8-92b7-4917-dc0e-d83a927ef9c8"
      },
      "outputs": [],
      "source": [
        "best_valid_loss = float('inf')\n",
        "\n",
        "for epoch in range(EPOCHS):\n",
        "\n",
        "    start_time = time.time()\n",
        "\n",
        "    train_loss, train_acc = train(model, train_iterator, optimizer, criterion)\n",
        "    valid_loss, valid_acc = evaluate(model, valid_iterator, criterion)\n",
        "\n",
        "    end_time = time.time()\n",
        "\n",
        "    epoch_mins, epoch_secs = epoch_time(start_time, end_time)\n",
        "\n",
        "    if valid_loss < best_valid_loss:\n",
        "        best_valid_loss = valid_loss\n",
        "        torch.save(model.state_dict(), 'tut2-model.pt')\n",
        "\n",
        "    print(f'Epoch: {epoch+1:02} | Epoch Time: {epoch_mins}m {epoch_secs}s')\n",
        "    print(f'\\tTrain Loss: {train_loss:.3f} | Train Acc: {train_acc*100:.2f}%')\n",
        "    print(f'\\t Val. Loss: {valid_loss:.3f} |  Val. Acc: {valid_acc*100:.2f}%')"
      ]
    },
    {
      "cell_type": "code",
      "execution_count": null,
      "metadata": {
        "id": "nZPrTHjdUNjY"
      },
      "outputs": [],
      "source": [
        "import spacy\n",
        "nlp = spacy.load('en_core_web_sm')\n",
        "\n",
        "def predict_censor(model, sentence):\n",
        "    model.eval()\n",
        "    tokenized = [tok.text for tok in nlp.tokenizer(sentence)]\n",
        "    indexed = [SENTENCE.vocab.stoi[t] for t in tokenized]\n",
        "    length = [len(indexed)]\n",
        "    tensor = torch.LongTensor(indexed).to(device)\n",
        "    tensor = tensor.unsqueeze(1)\n",
        "    length_tensor = torch.LongTensor(length)\n",
        "    prediction = (torch.sigmoid(model(tensor, length_tensor)))\n",
        "    return prediction.item()"
      ]
    },
    {
      "cell_type": "code",
      "execution_count": null,
      "metadata": {
        "colab": {
          "base_uri": "https://localhost:8080/"
        },
        "id": "04yugr-Ucptz",
        "outputId": "6d388971-5d33-4e1d-b25c-af10bd076eca"
      },
      "outputs": [],
      "source": [
        "pred = predict_censor(model, \"hell\")\n",
        "pred = pred*100\n",
        "pred = round(pred, 1)\n",
        "\n",
        "print(\"Here is my prediction: \" + str(pred) + \"%\")"
      ]
    }
  ],
  "metadata": {
    "accelerator": "GPU",
    "colab": {
      "provenance": [],
      "toc_visible": true
    },
    "kernelspec": {
      "display_name": "Python 3",
      "name": "python3"
    }
  },
  "nbformat": 4,
  "nbformat_minor": 0
}
