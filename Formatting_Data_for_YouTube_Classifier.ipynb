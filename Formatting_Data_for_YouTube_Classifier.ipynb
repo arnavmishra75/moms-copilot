{
  "cells": [
    {
      "cell_type": "code",
      "execution_count": null,
      "metadata": {
        "id": "A-5St8aRPXBI"
      },
      "outputs": [],
      "source": [
        "import pandas as pd"
      ]
    },
    {
      "cell_type": "code",
      "execution_count": null,
      "metadata": {
        "id": "dTHMzS7WPwv6"
      },
      "outputs": [],
      "source": [
        "data = pd.read_csv('train.csv', nrows=12000)"
      ]
    },
    {
      "cell_type": "code",
      "execution_count": null,
      "metadata": {
        "colab": {
          "base_uri": "https://localhost:8080/",
          "height": 1000
        },
        "id": "-Wd1bXn8P4dh",
        "outputId": "0bd7f0c9-c457-416c-f9bb-1343e7af9fff"
      },
      "outputs": [],
      "source": [
        "data.head(20)"
      ]
    },
    {
      "cell_type": "code",
      "execution_count": null,
      "metadata": {
        "id": "kXluyLxBQOvK"
      },
      "outputs": [],
      "source": [
        "data['censor'] = 0"
      ]
    },
    {
      "cell_type": "code",
      "execution_count": null,
      "metadata": {
        "colab": {
          "base_uri": "https://localhost:8080/",
          "height": 546
        },
        "id": "v10UKeVfQvYe",
        "outputId": "5960f3ef-7a0a-4856-da55-09b99047daa3"
      },
      "outputs": [],
      "source": [
        "data.head(10)"
      ]
    },
    {
      "cell_type": "code",
      "execution_count": null,
      "metadata": {
        "colab": {
          "base_uri": "https://localhost:8080/",
          "height": 1000
        },
        "id": "pD93WUl7SAhL",
        "outputId": "705576b4-a4ee-489d-cde2-74a12d0d13fc"
      },
      "outputs": [],
      "source": [
        "for index in data.index:\n",
        "  if (data.loc[index,'threat'] == 1) and (data.loc[index,'insult'] == 1) and (data.loc[index,'identity_hate'] == 1):\n",
        "    data.loc[index,'censor'] = 1\n",
        "  elif (data.loc[index,'toxic'] == 1): # and (data.loc[index,'identity_hate'] == 1):\n",
        "    data.loc[index,'censor'] = 1\n",
        "  elif data.loc[index,'obscene'] == 1:\n",
        "    data.loc[index,'censor'] = 1\n",
        "  elif (data.loc[index,'severe_toxic'] == 1):\n",
        "    data.loc[index,'censor'] = 1\n",
        "  else:\n",
        "    data.loc[index,'censor'] = 0\n",
        "\n",
        "data.head(40)"
      ]
    },
    {
      "cell_type": "code",
      "execution_count": null,
      "metadata": {
        "colab": {
          "base_uri": "https://localhost:8080/"
        },
        "id": "fSM-zdtHSHFl",
        "outputId": "aa4d7a33-902f-456a-9084-1b3b6db26920"
      },
      "outputs": [],
      "source": [
        "for index in data.index:\n",
        "  if data.loc[index,\"censor\"] == 1:\n",
        "    print(data.loc[index, \"toxic\"])\n",
        "    print(data.loc[index, \"severe_toxic\"])\n",
        "    print(data.loc[index, \"obscene\"])\n",
        "    print(data.loc[index, \"threat\"])\n",
        "    print(data.loc[index, \"insult\"])\n",
        "    print(data.loc[index, \"identity_hate\"])\n",
        "    print(data.loc[index, \"censor\"])\n",
        "    print(\"\\n\\n\\n\")"
      ]
    },
    {
      "cell_type": "code",
      "execution_count": null,
      "metadata": {
        "colab": {
          "base_uri": "https://localhost:8080/",
          "height": 589
        },
        "id": "sF3OpqVNCYHm",
        "outputId": "76998ef3-63e8-4ae1-8136-ac9d3c3a757b"
      },
      "outputs": [],
      "source": [
        "data.head(100)"
      ]
    },
    {
      "cell_type": "code",
      "execution_count": null,
      "metadata": {
        "id": "SCQYxLKZT2sF"
      },
      "outputs": [],
      "source": [
        "final = pd.DataFrame({'sentence': data['comment_text'], 'censor': data['censor']})"
      ]
    },
    {
      "cell_type": "code",
      "execution_count": null,
      "metadata": {
        "colab": {
          "base_uri": "https://localhost:8080/",
          "height": 1000
        },
        "id": "pn37We83UVW1",
        "outputId": "c02db576-5356-44ba-f53d-91b19af8aaac"
      },
      "outputs": [],
      "source": [
        "final.head(50)"
      ]
    },
    {
      "cell_type": "code",
      "execution_count": null,
      "metadata": {
        "colab": {
          "base_uri": "https://localhost:8080/"
        },
        "id": "8nYHErn0UWfg",
        "outputId": "ab7a57b8-7df6-43c5-e938-ba34ca84a72e"
      },
      "outputs": [],
      "source": [
        "for j in range(len(final['sentence'])):\n",
        "  final['sentence'][j] = [\"\" + final['sentence'][j] + \"\"]"
      ]
    },
    {
      "cell_type": "code",
      "execution_count": null,
      "metadata": {
        "colab": {
          "base_uri": "https://localhost:8080/"
        },
        "id": "M0qlWSxwU-KI",
        "outputId": "268ae403-d427-4df6-bc45-1870e351cff4"
      },
      "outputs": [],
      "source": [
        "for i in range(0,5):\n",
        "  print(final['sentence'][i])"
      ]
    },
    {
      "cell_type": "code",
      "execution_count": null,
      "metadata": {
        "id": "ftisIOudVRtn"
      },
      "outputs": [],
      "source": [
        "with open('latest.json', 'w') as outfile:\n",
        "    for i in range(len(final['sentence'])):\n",
        "      outfile.write('{' + '\"sentence\": ' + str(final['sentence'][i]) + ', \"censor\":' + str(final['censor'][i]) + '}\\n')"
      ]
    },
    {
      "cell_type": "code",
      "execution_count": null,
      "metadata": {
        "colab": {
          "base_uri": "https://localhost:8080/"
        },
        "id": "Zb7kVtF_VdEw",
        "outputId": "4957fc1d-2dbf-4f84-a642-e633af6be6a9"
      },
      "outputs": [],
      "source": [
        "print(final[1:1000])"
      ]
    },
    {
      "cell_type": "code",
      "execution_count": null,
      "metadata": {
        "colab": {
          "base_uri": "https://localhost:8080/"
        },
        "id": "1UWQqc6fLQdP",
        "outputId": "fd3a63a5-4025-41b5-a8f9-3fa8fcf82faf"
      },
      "outputs": [],
      "source": [
        "print('{' + '\"sentence\": ' + str(final['sentence'][0]) + ' ,\"censor\":' + str(final['censor'][0]) + '}'  )"
      ]
    }
  ],
  "metadata": {
    "colab": {
      "provenance": [],
      "toc_visible": true
    },
    "kernelspec": {
      "display_name": "Python 3",
      "name": "python3"
    }
  },
  "nbformat": 4,
  "nbformat_minor": 0
}
